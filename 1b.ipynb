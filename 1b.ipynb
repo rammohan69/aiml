{
 "cells": [
  {
   "cell_type": "code",
   "execution_count": 31,
   "id": "6772e6ac-c3d1-4196-bb6a-f126548739d0",
   "metadata": {},
   "outputs": [],
   "source": [
    "import numpy as np\n",
    "import pandas as pd\n",
    "import matplotlib.pyplot as plt\n",
    "%matplotlib inline"
   ]
  },
  {
   "cell_type": "code",
   "execution_count": 64,
   "id": "ee45e30c-33a9-4d22-a48a-9c93789f6387",
   "metadata": {},
   "outputs": [
    {
     "name": "stdout",
     "output_type": "stream",
     "text": [
      "(50, 2)\n"
     ]
    },
    {
     "data": {
      "text/html": [
       "<div>\n",
       "<style scoped>\n",
       "    .dataframe tbody tr th:only-of-type {\n",
       "        vertical-align: middle;\n",
       "    }\n",
       "\n",
       "    .dataframe tbody tr th {\n",
       "        vertical-align: top;\n",
       "    }\n",
       "\n",
       "    .dataframe thead th {\n",
       "        text-align: right;\n",
       "    }\n",
       "</style>\n",
       "<table border=\"1\" class=\"dataframe\">\n",
       "  <thead>\n",
       "    <tr style=\"text-align: right;\">\n",
       "      <th></th>\n",
       "      <th>AREA</th>\n",
       "      <th>PRICE</th>\n",
       "    </tr>\n",
       "  </thead>\n",
       "  <tbody>\n",
       "    <tr>\n",
       "      <th>0</th>\n",
       "      <td>1000</td>\n",
       "      <td>5618</td>\n",
       "    </tr>\n",
       "    <tr>\n",
       "      <th>1</th>\n",
       "      <td>1030</td>\n",
       "      <td>5201</td>\n",
       "    </tr>\n",
       "    <tr>\n",
       "      <th>2</th>\n",
       "      <td>1060</td>\n",
       "      <td>4779</td>\n",
       "    </tr>\n",
       "    <tr>\n",
       "      <th>3</th>\n",
       "      <td>1090</td>\n",
       "      <td>5425</td>\n",
       "    </tr>\n",
       "    <tr>\n",
       "      <th>4</th>\n",
       "      <td>1120</td>\n",
       "      <td>5657</td>\n",
       "    </tr>\n",
       "  </tbody>\n",
       "</table>\n",
       "</div>"
      ],
      "text/plain": [
       "   AREA  PRICE\n",
       "0  1000   5618\n",
       "1  1030   5201\n",
       "2  1060   4779\n",
       "3  1090   5425\n",
       "4  1120   5657"
      ]
     },
     "execution_count": 64,
     "metadata": {},
     "output_type": "execute_result"
    }
   ],
   "source": [
    "df = pd.read_csv(\"C:\\\\Users\\\\manje\\\\OneDrive\\\\Desktop\\\\pradhanmatri\\\\housing_prices_SLR.csv\")\n",
    "print(df.shape)\n",
    "df.head()"
   ]
  },
  {
   "cell_type": "code",
   "execution_count": 62,
   "id": "20464190-6e9c-4859-913c-f9edbe27f567",
   "metadata": {},
   "outputs": [],
   "source": [
    "x = df[['AREA']].values  # Feature matrix\n",
    "y = df['PRICE'].values "
   ]
  },
  {
   "cell_type": "code",
   "execution_count": 35,
   "id": "301e517b-3f92-4e06-9630-e57ebb74f5bc",
   "metadata": {},
   "outputs": [],
   "source": [
    "x_train, x_test, y_train, y_test = train_test_split(x, y, test_size=0.2, random_state=100)\n"
   ]
  },
  {
   "cell_type": "code",
   "execution_count": 38,
   "id": "0baee512-39e7-4385-b357-f040146bc357",
   "metadata": {},
   "outputs": [
    {
     "name": "stdout",
     "output_type": "stream",
     "text": [
      "Requirement already satisfied: scikit-learn in c:\\users\\manje\\anaconda3\\lib\\site-packages (1.5.1)\n",
      "Requirement already satisfied: numpy>=1.19.5 in c:\\users\\manje\\anaconda3\\lib\\site-packages (from scikit-learn) (1.26.4)\n",
      "Requirement already satisfied: scipy>=1.6.0 in c:\\users\\manje\\anaconda3\\lib\\site-packages (from scikit-learn) (1.13.1)\n",
      "Requirement already satisfied: joblib>=1.2.0 in c:\\users\\manje\\anaconda3\\lib\\site-packages (from scikit-learn) (1.4.2)\n",
      "Requirement already satisfied: threadpoolctl>=3.1.0 in c:\\users\\manje\\anaconda3\\lib\\site-packages (from scikit-learn) (3.5.0)\n",
      "Note: you may need to restart the kernel to use updated packages.\n"
     ]
    }
   ],
   "source": [
    "pip install scikit-learn"
   ]
  },
  {
   "cell_type": "code",
   "execution_count": 68,
   "id": "a6ba29e7-1d93-46f8-8061-19c20161b987",
   "metadata": {},
   "outputs": [
    {
     "name": "stdout",
     "output_type": "stream",
     "text": [
      "(40, 1)\n",
      "(10, 1)\n",
      "(40, 1)\n",
      "(10, 1)\n"
     ]
    }
   ],
   "source": [
    "print(x_train.shape)\n",
    "print(x_test.shape)\n",
    "print(x_train.shape)\n",
    "print(x_test.shape)"
   ]
  },
  {
   "cell_type": "code",
   "execution_count": 83,
   "id": "01756a00-6ad3-4821-aee0-47dcfaefc0d1",
   "metadata": {},
   "outputs": [
    {
     "name": "stdout",
     "output_type": "stream",
     "text": [
      "Intercept: -3103.34066448488\n",
      "Coefficient: [7.75979089]\n"
     ]
    }
   ],
   "source": [
    "lr_model = LinearRegression(fit_intercept= True)\n",
    "lr_model.fit(x_train, y_train)\n",
    "print(f\"Intercept: {lr_model.intercept_}\")\n",
    "print(f\"Coefficient: {lr_model.coef_}\")"
   ]
  },
  {
   "cell_type": "code",
   "execution_count": 87,
   "id": "5060b0ff-a2ab-4f60-b7ca-d6b268ec1b28",
   "metadata": {},
   "outputs": [
    {
     "name": "stdout",
     "output_type": "stream",
     "text": [
      "Intercept: 0.0\n",
      "coefficient:[6.03609138]\n"
     ]
    }
   ],
   "source": [
    "lr_model=LinearRegression(fit_intercept= False)\n",
    "lr_model.fit(x_train,y_train)\n",
    "print(f\"Intercept: {lr_model.intercept_}\")\n",
    "print(f\"coefficient:{lr_model.coef_}\")"
   ]
  },
  {
   "cell_type": "code",
   "execution_count": 89,
   "id": "0ec083ca-6554-4258-90bb-bb2abd91e73b",
   "metadata": {},
   "outputs": [],
   "source": [
    "y_train_pred = lr_model.predict(x_train)"
   ]
  },
  {
   "cell_type": "code",
   "execution_count": 48,
   "id": "db5e8eed-316a-443b-827a-f5fa8f254fc7",
   "metadata": {},
   "outputs": [
    {
     "name": "stdout",
     "output_type": "stream",
     "text": [
      "R^2 Train Score: 0.865632112064227\n",
      "R^2 Test Score: 0.570954870212099\n"
     ]
    }
   ],
   "source": [
    "print(f\"R^2 Train Score: {r2_score(y_train, y_train_pred)}\")\n",
    "print(f\"R^2 Test Score: {r2_score(y_test, lr_model.predict(x_test))}\")"
   ]
  },
  {
   "cell_type": "code",
   "execution_count": 56,
   "id": "c1999c43-1373-41ac-b13b-189dcb9fce20",
   "metadata": {},
   "outputs": [
    {
     "data": {
      "image/png": "[encoded data removed]",
      "text/plain": [
       "<Figure size 640x480 with 1 Axes>"
      ]
     },
     "metadata": {},
     "output_type": "display_data"
    }
   ],
   "source": [
    "plt.scatter(x_train, y_train, color='green', label='Train Data')\n",
    "plt.scatter(x_test, y_test, color='orange', label='Test Data')\n",
    "plt.plot(x_train, lr_model.predict(x_train), color='yellow', label='Regression Line')\n",
    "plt.xlabel('Area')\n",
    "plt.ylabel('Price')\n",
    "plt.legend()\n",
    "plt.show()"
   ]
  }
 ],
 "metadata": {
  "kernelspec": {
   "display_name": "Python [conda env:base] *",
   "language": "python",
   "name": "conda-base-py"
  },
  "language_info": {
   "codemirror_mode": {
    "name": "ipython",
    "version": 3
   },
   "file_extension": ".py",
   "mimetype": "text/x-python",
   "name": "python",
   "nbconvert_exporter": "python",
   "pygments_lexer": "ipython3",
   "version": "3.12.7"
  }
 },
 "nbformat": 4,
 "nbformat_minor": 5
}
